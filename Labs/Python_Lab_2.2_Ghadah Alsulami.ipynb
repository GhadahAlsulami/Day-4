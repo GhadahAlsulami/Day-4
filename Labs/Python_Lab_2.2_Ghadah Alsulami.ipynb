{
 "cells": [
  {
   "cell_type": "markdown",
   "metadata": {
    "id": "E9Y5ss1ZYj3r"
   },
   "source": [
    "# Python_Lab_2.2\n"
   ]
  },
  {
   "cell_type": "markdown",
   "metadata": {
    "id": "Q1kAqc72Yj3t"
   },
   "source": [
    "### Task 1\n",
    "1. Write a program that prompts the user to enter two numbers and prints their division. Handle cases where the user enters non-numeric values or attempts to divide by zero using a try-except block.\n"
   ]
  },
  {
   "cell_type": "code",
   "execution_count": 1,
   "metadata": {
    "id": "H-xyoRTVYj3t"
   },
   "outputs": [
    {
     "name": "stdin",
     "output_type": "stream",
     "text": [
      "Enter the first number:  10\n",
      "Enter the second number:  5\n"
     ]
    },
    {
     "name": "stdout",
     "output_type": "stream",
     "text": [
      "The result of dividing 10.0 by 5.0 is 2.0\n"
     ]
    }
   ],
   "source": [
    "try:\n",
    "    num1 = float(input(\"Enter the first number: \"))\n",
    "    num2 = float(input(\"Enter the second number: \"))\n",
    "    \n",
    "    result = num1 / num2\n",
    "    print(f\"The result of dividing {num1} by {num2} is {result}\")\n",
    "    \n",
    "except ValueError:\n",
    "    print(\"Error: Please enter valid numeric values.\")\n",
    "    \n",
    "except ZeroDivisionError:\n",
    "    print(\"Error: Division by zero is not allowed.\")\n"
   ]
  },
  {
   "cell_type": "markdown",
   "metadata": {
    "id": "CPWcDSC_Yj3u"
   },
   "source": [
    "### Task 2\n",
    "- Use \"Random\" library to do the following:\n",
    "    1. Create a list of random numbers using list comprehension.\n",
    "    2. Create a list of squares of the even numbers from random numbers using list comprehension.\n",
    "    3. Create a list of tuples (number, square) for random numbers using list comprehension."
   ]
  },
  {
   "cell_type": "code",
   "execution_count": 3,
   "metadata": {
    "id": "Yfq-i6CeYj3u"
   },
   "outputs": [
    {
     "data": {
      "text/plain": [
       "([62, 94, 4, 65, 31, 33, 86, 51, 37, 64],\n",
       " [3844, 8836, 16, 7396, 4096],\n",
       " [(62, 3844),\n",
       "  (94, 8836),\n",
       "  (4, 16),\n",
       "  (65, 4225),\n",
       "  (31, 961),\n",
       "  (33, 1089),\n",
       "  (86, 7396),\n",
       "  (51, 2601),\n",
       "  (37, 1369),\n",
       "  (64, 4096)])"
      ]
     },
     "execution_count": 3,
     "metadata": {},
     "output_type": "execute_result"
    }
   ],
   "source": [
    "# write your code here ^_^\n",
    "import random\n",
    "random_numbers = [random.randint(1, 100) for _ in range(10)]\n",
    "even_squares = [x**2 for x in random_numbers if x % 2 == 0]\n",
    "\n",
    "number_square_tuples = [(x, x**2) for x in random_numbers]\n",
    "\n",
    "random_numbers, even_squares, number_square_tuples\n"
   ]
  },
  {
   "cell_type": "markdown",
   "metadata": {
    "id": "jYdOq46NYj3u"
   },
   "source": [
    "### Task 3\n",
    "- Create a dictionary where the keys are numbers from 1 to 5 and the values are list of their squares and cubes.\n",
    "\n",
    "  - **hint**: use dictionary of list comprehension.\n",
    "\n",
    "- Create a dictionary from two lists (one with keys and one with values) using dictionary comprehension.\n",
    "\n"
   ]
  },
  {
   "cell_type": "code",
   "execution_count": 5,
   "metadata": {
    "id": "IEnsiNmCYj3u"
   },
   "outputs": [
    {
     "data": {
      "text/plain": [
       "({1: [1, 1], 2: [4, 8], 3: [9, 27], 4: [16, 64], 5: [25, 125]},\n",
       " {'a': 10, 'b': 20, 'c': 30, 'd': 40, 'e': 50})"
      ]
     },
     "execution_count": 5,
     "metadata": {},
     "output_type": "execute_result"
    }
   ],
   "source": [
    "# write your code here ^_^\n",
    "squares_and_cubes = {x: [x**2, x**3] for x in range(1, 6)}\n",
    "\n",
    "keys = [\"a\", \"b\", \"c\", \"d\", \"e\"]\n",
    "values = [10, 20, 30, 40, 50]\n",
    "dict_from_lists = {keys[i]: values[i] for i in range(len(keys))}\n",
    "\n",
    "squares_and_cubes, dict_from_lists\n"
   ]
  },
  {
   "cell_type": "markdown",
   "metadata": {
    "id": "6T9TCQ8SYj3v"
   },
   "source": [
    "### Task 4\n",
    "- Given a dictionary where keys are student names and values are lists of their scores, write a function that updates the scores of students who have achieved a perfect score (100) by adding a bonus of 5 points to each score. Use dictionary comprehension to achieve this.\n",
    "\n",
    "    - Implement the function add_bonus_to_perfect_scores(student_scores) that adds a bonus of 5 points to each score of students who have achieved a perfect score (100)."
   ]
  },
  {
   "cell_type": "code",
   "execution_count": 7,
   "metadata": {
    "id": "T3R_VsQpYj3v"
   },
   "outputs": [
    {
     "data": {
      "text/plain": [
       "{'sara': [88, 105, 95],\n",
       " 'Ahmad': [105, 85, 90],\n",
       " 'Ghadah': [70, 80, 105],\n",
       " 'Maha': [60, 75, 85]}"
      ]
     },
     "execution_count": 7,
     "metadata": {},
     "output_type": "execute_result"
    }
   ],
   "source": [
    "# write your code here ^_^\n",
    "def add_bonus_to_perfect_scores(student_scores):\n",
    "    updated_scores = {\n",
    "        student: [score + 5 if score == 100 else score for score in scores]\n",
    "        for student, scores in student_scores.items()\n",
    "    }\n",
    "    return updated_scores\n",
    "\n",
    "\n",
    "student_scores = {\n",
    "    \"sara\": [88, 100, 95],\n",
    "    \"Ahmad\": [100, 85, 90],\n",
    "    \"Ghadah\": [70, 80, 100],\n",
    "    \"Maha\": [60, 75, 85]\n",
    "}\n",
    "\n",
    "updated_scores = add_bonus_to_perfect_scores(student_scores)\n",
    "updated_scores\n"
   ]
  },
  {
   "cell_type": "markdown",
   "metadata": {
    "id": "rJkOEFAwYj3v"
   },
   "source": []
  }
 ],
 "metadata": {
  "colab": {
   "provenance": []
  },
  "kernelspec": {
   "display_name": "Python 3 (ipykernel)",
   "language": "python",
   "name": "python3"
  },
  "language_info": {
   "codemirror_mode": {
    "name": "ipython",
    "version": 3
   },
   "file_extension": ".py",
   "mimetype": "text/x-python",
   "name": "python",
   "nbconvert_exporter": "python",
   "pygments_lexer": "ipython3",
   "version": "3.12.4"
  }
 },
 "nbformat": 4,
 "nbformat_minor": 4
}
